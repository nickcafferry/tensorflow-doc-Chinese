{
 "cells": [
  {
   "cell_type": "markdown",
   "metadata": {},
   "source": [
    "# Using Tensorboard\n",
    "-----------------------------\n",
    "We illustrate the various uses of Tensorboard in this script.\n",
    "\n",
    " 1. Visualizing a scalar value.\n",
    " 2. Visualizing a histogram of values.\n",
    " 3. Adding a custom matplotlib graph to Tensorboard\n",
    "\n",
    "We start by loading the necessary libraries"
   ]
  },
  {
   "cell_type": "code",
   "execution_count": 2,
   "metadata": {},
   "outputs": [],
   "source": [
    "import os\n",
    "import io\n",
    "import time\n",
    "import numpy as np\n",
    "import matplotlib.pyplot as plt\n",
    "import tensorflow as tf"
   ]
  },
  {
   "cell_type": "markdown",
   "metadata": {},
   "source": [
    "Start a graph session:"
   ]
  },
  {
   "cell_type": "code",
   "execution_count": 3,
   "metadata": {},
   "outputs": [],
   "source": [
    "sess = tf.Session()"
   ]
  },
  {
   "cell_type": "markdown",
   "metadata": {},
   "source": [
    "We start by creating an object on our graph that will write the Tensorboard summaries to a file.  When we call this operation we will then be able to view the updated graph instantly in Tensorboard.\n",
    "\n",
    "We run the script `01_using_tensorboard.py` from the command line via:\n",
    "\n",
    "`$ python3 01_using_tensorboard.py`\n",
    "\n",
    "We then start the Tensorboard application by running the command:\n",
    "\n",
    "`$ tensorboard --logdir=\"tensorboard\"`\n",
    "\n",
    "Then we navigate our browser to the folling link:\n",
    "\n",
    "http://127.0.0.0:6006\n",
    "\n",
    "Note that we can specify a different port if need be by passing a `--port 6007` command (for running on port 6007."
   ]
  },
  {
   "cell_type": "code",
   "execution_count": 4,
   "metadata": {},
   "outputs": [],
   "source": [
    "# Create a visualizer object\n",
    "summary_writer = tf.summary.FileWriter('tensorboard', tf.get_default_graph())\n",
    "\n",
    "# Create tensorboard folder if not exists\n",
    "if not os.path.exists('tensorboard'):\n",
    "    os.makedirs('tensorboard')"
   ]
  },
  {
   "cell_type": "markdown",
   "metadata": {},
   "source": [
    "Tensorboard will be viewable _*as*_ your program is running, so we should slow down our algorithm so that we have time to run the above tensorboard commands and load tensorboard."
   ]
  },
  {
   "cell_type": "code",
   "execution_count": 5,
   "metadata": {},
   "outputs": [],
   "source": [
    "# Wait a few seconds for user to run tensorboard commands\n",
    "time.sleep(5)"
   ]
  },
  {
   "cell_type": "markdown",
   "metadata": {},
   "source": [
    "Set the algorithm parameteres"
   ]
  },
  {
   "cell_type": "code",
   "execution_count": 6,
   "metadata": {},
   "outputs": [],
   "source": [
    "batch_size = 50\n",
    "generations = 100"
   ]
  },
  {
   "cell_type": "markdown",
   "metadata": {},
   "source": [
    "For the model, we will create a linear regression fit to generated data."
   ]
  },
  {
   "cell_type": "code",
   "execution_count": 7,
   "metadata": {},
   "outputs": [],
   "source": [
    "# Create sample input data\n",
    "x_data = np.arange(1000)/10.\n",
    "true_slope = 2.\n",
    "y_data = x_data * true_slope + np.random.normal(loc=0.0, scale=25, size=1000)\n",
    "\n",
    "# Split into train/test\n",
    "train_ix = np.random.choice(len(x_data), size=int(len(x_data)*0.9), replace=False)\n",
    "test_ix = np.setdiff1d(np.arange(1000), train_ix)\n",
    "x_data_train, y_data_train = x_data[train_ix], y_data[train_ix]\n",
    "x_data_test, y_data_test = x_data[test_ix], y_data[test_ix]"
   ]
  },
  {
   "cell_type": "markdown",
   "metadata": {},
   "source": [
    "Now we declare the placeholders, variables, model operations, loss, and optimization function."
   ]
  },
  {
   "cell_type": "code",
   "execution_count": 8,
   "metadata": {},
   "outputs": [],
   "source": [
    "# Declare placeholders\n",
    "x_graph_input = tf.placeholder(tf.float32, [None])\n",
    "y_graph_input = tf.placeholder(tf.float32, [None])\n",
    "\n",
    "# Declare model variables\n",
    "m = tf.Variable(tf.random_normal([1], dtype=tf.float32), name='Slope')\n",
    "\n",
    "# Declare model\n",
    "output = tf.multiply(m, x_graph_input, name='Batch_Multiplication')\n",
    "\n",
    "# Declare loss function (L1)\n",
    "residuals = output - y_graph_input\n",
    "l1_loss = tf.reduce_mean(tf.abs(residuals), name=\"L1_Loss\")\n",
    "\n",
    "# Declare optimization function\n",
    "my_optim = tf.train.GradientDescentOptimizer(0.01)\n",
    "train_step = my_optim.minimize(l1_loss)"
   ]
  },
  {
   "cell_type": "markdown",
   "metadata": {},
   "source": [
    "Here we show how to log a scalar variable with Tensorboard."
   ]
  },
  {
   "cell_type": "code",
   "execution_count": 9,
   "metadata": {},
   "outputs": [],
   "source": [
    "# Visualize a scalar\n",
    "with tf.name_scope('Slope_Estimate'):\n",
    "    tf.summary.scalar('Slope_Estimate', tf.squeeze(m))"
   ]
  },
  {
   "cell_type": "markdown",
   "metadata": {},
   "source": [
    "<a href=\"url\"><img src=\"https://github.com/nfmcclure/tensorflow_cookbook/raw/master/11_More_with_TensorFlow/images/01_tensorboard1.png\" align=\"left\" height=\"450\" width=\"450\" ></a>"
   ]
  },
  {
   "cell_type": "markdown",
   "metadata": {},
   "source": [
    "Here we show how to visualize a vector of parameters with a histogram summary."
   ]
  },
  {
   "cell_type": "code",
   "execution_count": 10,
   "metadata": {},
   "outputs": [],
   "source": [
    "# Visualize a histogram (errors)\n",
    "with tf.name_scope('Loss_and_Residuals'):\n",
    "    tf.summary.histogram('Histogram_Errors', l1_loss)\n",
    "    tf.summary.histogram('Histogram_Residuals', residuals)"
   ]
  },
  {
   "cell_type": "markdown",
   "metadata": {},
   "source": [
    "<a href=\"url\"><img src=\"https://github.com/nfmcclure/tensorflow_cookbook/raw/master/11_More_with_TensorFlow/images/01_tensorboard2.png\" align=\"left\" height=\"450\" width=\"450\" ></a>"
   ]
  },
  {
   "cell_type": "markdown",
   "metadata": {},
   "source": [
    "We now create a summary merge operation that combines all the summary calculating operations into one."
   ]
  },
  {
   "cell_type": "code",
   "execution_count": 11,
   "metadata": {},
   "outputs": [],
   "source": [
    "# Declare summary merging operation\n",
    "summary_op = tf.summary.merge_all()"
   ]
  },
  {
   "cell_type": "markdown",
   "metadata": {},
   "source": [
    "Initialize the variables"
   ]
  },
  {
   "cell_type": "code",
   "execution_count": 12,
   "metadata": {},
   "outputs": [],
   "source": [
    "# Initialize Variables\n",
    "init = tf.global_variables_initializer()\n",
    "sess.run(init)"
   ]
  },
  {
   "cell_type": "markdown",
   "metadata": {},
   "source": [
    "We now optimize our linear regression.\n",
    "\n",
    "Also for every iteration we will call the summary writer to write the summaries we have created to the Tensorboard directory.\n",
    "\n",
    "(Also note that we have a `time.sleep(0.5)` in the loop.  This is to slow down the algorithm to view it in progress in Tensorboard)"
   ]
  },
  {
   "cell_type": "code",
   "execution_count": 13,
   "metadata": {},
   "outputs": [
    {
     "name": "stdout",
     "output_type": "stream",
     "text": [
      "Generation 10 of 100. Train Loss: 17.6, Test Loss: 19.0.\n",
      "Generation 20 of 100. Train Loss: 20.9, Test Loss: 18.8.\n",
      "Generation 30 of 100. Train Loss: 24.6, Test Loss: 18.8.\n",
      "Generation 40 of 100. Train Loss: 22.2, Test Loss: 19.4.\n",
      "Generation 50 of 100. Train Loss: 20.7, Test Loss: 19.9.\n",
      "Generation 60 of 100. Train Loss: 19.5, Test Loss: 18.9.\n",
      "Generation 70 of 100. Train Loss: 18.5, Test Loss: 19.2.\n",
      "Generation 80 of 100. Train Loss: 16.5, Test Loss: 19.2.\n",
      "Generation 90 of 100. Train Loss: 18.0, Test Loss: 18.9.\n",
      "Generation 100 of 100. Train Loss: 23.9, Test Loss: 18.8.\n"
     ]
    }
   ],
   "source": [
    "for i in range(generations):\n",
    "    batch_indices = np.random.choice(len(x_data_train), size=batch_size)\n",
    "    x_batch = x_data_train[batch_indices]\n",
    "    y_batch = y_data_train[batch_indices]\n",
    "    _, train_loss, summary = sess.run([train_step, l1_loss, summary_op],\n",
    "                             feed_dict={x_graph_input: x_batch,\n",
    "                                        y_graph_input: y_batch})\n",
    "    \n",
    "    test_loss, test_resids = sess.run([l1_loss, residuals], feed_dict={x_graph_input: x_data_test,\n",
    "                                                                       y_graph_input: y_data_test})\n",
    "    \n",
    "    if (i+1)%10==0:\n",
    "        print('Generation {} of {}. Train Loss: {:.3}, Test Loss: {:.3}.'.format(i+1, generations, train_loss, test_loss))\n",
    "\n",
    "    log_writer = tf.summary.FileWriter('tensorboard')\n",
    "    log_writer.add_summary(summary, i)\n",
    "    time.sleep(0.5)"
   ]
  },
  {
   "cell_type": "markdown",
   "metadata": {},
   "source": [
    "Next, we will illustrate how to put a custom graph into Tensorboard.  For this example we will write the final graph of the linear regression.\n",
    "\n",
    "First we need to create a function that generates the linear plot in a protobuf format."
   ]
  },
  {
   "cell_type": "code",
   "execution_count": 14,
   "metadata": {},
   "outputs": [],
   "source": [
    "#Create a function to save a protobuf bytes version of the graph\n",
    "def gen_linear_plot(slope):\n",
    "    linear_prediction = x_data * slope\n",
    "    plt.plot(x_data, y_data, 'b.', label='data')\n",
    "    plt.plot(x_data, linear_prediction, 'r-', linewidth=3, label='predicted line')\n",
    "    plt.legend(loc='upper left')\n",
    "    buf = io.BytesIO()\n",
    "    plt.savefig(buf, format='png')\n",
    "    buf.seek(0)\n",
    "    return(buf)"
   ]
  },
  {
   "cell_type": "markdown",
   "metadata": {},
   "source": [
    "Here we add the image to Tensorboard."
   ]
  },
  {
   "cell_type": "code",
   "execution_count": 15,
   "metadata": {},
   "outputs": [
    {
     "data": {
      "image/png": "[encoded data removed]",
      "text/plain": [
       "<Figure size 432x288 with 1 Axes>"
      ]
     },
     "metadata": {},
     "output_type": "display_data"
    }
   ],
   "source": [
    "# Add image to tensorboard (plot the linear fit!)\n",
    "slope = sess.run(m)\n",
    "plot_buf = gen_linear_plot(slope[0])\n",
    "\n",
    "# Convert PNG buffer to TF image\n",
    "image = tf.image.decode_png(plot_buf.getvalue(), channels=4)\n",
    "\n",
    "# Add the batch dimension\n",
    "image = tf.expand_dims(image, 0)\n",
    "\n",
    "# Add image summary\n",
    "image_summary_op = tf.summary.image(\"Linear_Plot\", image)\n",
    "image_summary = sess.run(image_summary_op)\n",
    "log_writer.add_summary(image_summary, i)\n",
    "log_writer.close()"
   ]
  },
  {
   "cell_type": "markdown",
   "metadata": {},
   "source": [
    "<a href=\"url\"><img src=\"https://github.com/nfmcclure/tensorflow_cookbook/raw/master/11_More_with_TensorFlow/images/01_tensorboard3.png\" align=\"left\" height=\"450\" width=\"450\" ></a>"
   ]
  }
 ],
 "metadata": {
  "kernelspec": {
   "display_name": "Python 3",
   "language": "python",
   "name": "python3"
  },
  "language_info": {
   "codemirror_mode": {
    "name": "ipython",
    "version": 3
   },
   "file_extension": ".py",
   "mimetype": "text/x-python",
   "name": "python",
   "nbconvert_exporter": "python",
   "pygments_lexer": "ipython3",
   "version": "3.6.5"
  }
 },
 "nbformat": 4,
 "nbformat_minor": 2
}
