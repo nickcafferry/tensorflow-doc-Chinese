{
 "cells": [
  {
   "cell_type": "markdown",
   "metadata": {},
   "source": [
    "# Using a Multiple Layer Network\n",
    "\n",
    "\n",
    "We will illustrate how to use a Multiple Layer Network in TensorFlow\n",
    "\n",
    "### Low Birthrate data:\n",
    "```\n",
    "#Columns    Variable                                      Abbreviation\n",
    "#---------------------------------------------------------------------\n",
    "# Low Birth Weight (0 = Birth Weight >= 2500g,            LOW\n",
    "#                          1 = Birth Weight < 2500g)\n",
    "# Age of the Mother in Years                              AGE\n",
    "# Weight in Pounds at the Last Menstrual Period           LWT\n",
    "# Race (1 = White, 2 = Black, 3 = Other)                  RACE\n",
    "# Smoking Status During Pregnancy (1 = Yes, 0 = No)       SMOKE\n",
    "# History of Premature Labor (0 = None  1 = One, etc.)    PTL\n",
    "# History of Hypertension (1 = Yes, 0 = No)               HT\n",
    "# Presence of Uterine Irritability (1 = Yes, 0 = No)      UI\n",
    "# Birth Weight in Grams                                   BWT\n",
    "#---------------------------------------------------------------------\n",
    "```\n",
    "The multiple neural network layer we will create will be composed of three fully connected hidden layers, with node sizes 50, 25, and 5"
   ]
  },
  {
   "cell_type": "code",
   "execution_count": 1,
   "metadata": {
    "collapsed": true
   },
   "outputs": [],
   "source": [
    "import tensorflow as tf\n",
    "import matplotlib.pyplot as plt\n",
    "import csv\n",
    "import os\n",
    "import os.path\n",
    "import random\n",
    "import numpy as np\n",
    "import random\n",
    "import requests\n",
    "from tensorflow.python.framework import ops"
   ]
  },
  {
   "cell_type": "markdown",
   "metadata": {},
   "source": [
    "## Obtain the data"
   ]
  },
  {
   "cell_type": "code",
   "execution_count": 2,
   "metadata": {
    "collapsed": true
   },
   "outputs": [],
   "source": [
    "# name of data file\n",
    "birth_weight_file = 'birth_weight.csv'\n",
    "\n",
    "# download data and create data file if file does not exist in current directory\n",
    "if not os.path.exists(birth_weight_file):\n",
    "    birthdata_url = 'https://github.com/nfmcclure/tensorflow_cookbook/raw/master/01_Introduction/07_Working_with_Data_Sources/birthweight_data/birthweight.dat'\n",
    "    birth_file = requests.get(birthdata_url)\n",
    "    birth_data = birth_file.text.split('\\r\\n')\n",
    "    birth_header = birth_data[0].split('\\t')\n",
    "    birth_data = [[float(x) for x in y.split('\\t') if len(x)>=1] for y in birth_data[1:] if len(y)>=1]\n",
    "    with open(birth_weight_file, \"w\") as f:\n",
    "        writer = csv.writer(f)\n",
    "        writer.writerows([birth_header])\n",
    "        writer.writerows(birth_data)\n",
    "        f.close()\n",
    "\n",
    "# read birth weight data into memory\n",
    "birth_data = []\n",
    "with open(birth_weight_file, newline='') as csvfile:\n",
    "    csv_reader = csv.reader(csvfile)\n",
    "    birth_header = next(csv_reader)\n",
    "    for row in csv_reader:\n",
    "        birth_data.append(row)\n",
    "\n",
    "birth_data = [[float(x) for x in row] for row in birth_data]\n",
    "\n",
    "\n",
    "# Extract y-target (birth weight)\n",
    "y_vals = np.array([x[8] for x in birth_data])\n",
    "\n",
    "# Filter for features of interest\n",
    "cols_of_interest = ['AGE', 'LWT', 'RACE', 'SMOKE', 'PTL', 'HT', 'UI']\n",
    "x_vals = np.array([[x[ix] for ix, feature in enumerate(birth_header) if feature in cols_of_interest] for x in birth_data])"
   ]
  },
  {
   "cell_type": "markdown",
   "metadata": {},
   "source": [
    "## Train model\n",
    "\n",
    "Here we reset any graph in memory and then start to create our graph and vectors."
   ]
  },
  {
   "cell_type": "code",
   "execution_count": 19,
   "metadata": {
    "collapsed": true
   },
   "outputs": [],
   "source": [
    "# reset the graph for new run\n",
    "ops.reset_default_graph()\n",
    "\n",
    "# Create graph session \n",
    "sess = tf.Session()\n",
    "\n",
    "# set batch size for training\n",
    "batch_size = 150\n",
    "\n",
    "# make results reproducible\n",
    "seed = 3\n",
    "np.random.seed(seed)\n",
    "tf.set_random_seed(seed)\n",
    "\n",
    "# Split data into train/test = 80%/20%\n",
    "train_indices = np.random.choice(len(x_vals), round(len(x_vals)*0.8), replace=False)\n",
    "test_indices = np.array(list(set(range(len(x_vals))) - set(train_indices)))\n",
    "x_vals_train = x_vals[train_indices]\n",
    "x_vals_test = x_vals[test_indices]\n",
    "y_vals_train = y_vals[train_indices]\n",
    "y_vals_test = y_vals[test_indices]"
   ]
  },
  {
   "cell_type": "markdown",
   "metadata": {},
   "source": [
    "Now we scale our dataset by the min/max of the _training set_.  We start by recording the mins and maxs of the training set. (We use this on scaling the test set, and evaluation set later on)."
   ]
  },
  {
   "cell_type": "code",
   "execution_count": 20,
   "metadata": {
    "collapsed": true
   },
   "outputs": [],
   "source": [
    "# Record training column max and min for scaling of non-training data\n",
    "train_max = np.max(x_vals_train, axis=0)\n",
    "train_min = np.min(x_vals_train, axis=0)\n",
    "\n",
    "# Normalize by column (min-max norm to be between 0 and 1)\n",
    "def normalize_cols(mat, max_vals, min_vals):\n",
    "    return (mat - min_vals) / (max_vals - min_vals)\n",
    "\n",
    "x_vals_train = np.nan_to_num(normalize_cols(x_vals_train, train_max, train_min))\n",
    "x_vals_test = np.nan_to_num(normalize_cols(x_vals_test, train_max, train_min))"
   ]
  },
  {
   "cell_type": "markdown",
   "metadata": {},
   "source": [
    "Next, we define our varibles, bias, and placeholders."
   ]
  },
  {
   "cell_type": "code",
   "execution_count": 21,
   "metadata": {
    "collapsed": true
   },
   "outputs": [],
   "source": [
    "# Define Variable Functions (weights and bias)\n",
    "def init_weight(shape, st_dev):\n",
    "    weight = tf.Variable(tf.random_normal(shape, stddev=st_dev))\n",
    "    return(weight)\n",
    "    \n",
    "\n",
    "def init_bias(shape, st_dev):\n",
    "    bias = tf.Variable(tf.random_normal(shape, stddev=st_dev))\n",
    "    return(bias)\n",
    "    \n",
    "    \n",
    "# Create Placeholders\n",
    "x_data = tf.placeholder(shape=[None, 7], dtype=tf.float32)\n",
    "y_target = tf.placeholder(shape=[None, 1], dtype=tf.float32)"
   ]
  },
  {
   "cell_type": "markdown",
   "metadata": {},
   "source": [
    "Now we define our model!  We start with a function that creates a fully connected later according to our variable specifications."
   ]
  },
  {
   "cell_type": "code",
   "execution_count": 22,
   "metadata": {
    "collapsed": false
   },
   "outputs": [],
   "source": [
    "# Create a fully connected layer:\n",
    "def fully_connected(input_layer, weights, biases):\n",
    "    layer = tf.add(tf.matmul(input_layer, weights), biases)\n",
    "    return(tf.nn.relu(layer))\n",
    "\n",
    "\n",
    "#--------Create the first layer (50 hidden nodes)--------\n",
    "weight_1 = init_weight(shape=[7, 25], st_dev=10.0)\n",
    "bias_1 = init_bias(shape=[25], st_dev=10.0)\n",
    "layer_1 = fully_connected(x_data, weight_1, bias_1)\n",
    "\n",
    "#--------Create second layer (25 hidden nodes)--------\n",
    "weight_2 = init_weight(shape=[25, 10], st_dev=10.0)\n",
    "bias_2 = init_bias(shape=[10], st_dev=10.0)\n",
    "layer_2 = fully_connected(layer_1, weight_2, bias_2)\n",
    "\n",
    "\n",
    "#--------Create third layer (5 hidden nodes)--------\n",
    "weight_3 = init_weight(shape=[10, 3], st_dev=10.0)\n",
    "bias_3 = init_bias(shape=[3], st_dev=10.0)\n",
    "layer_3 = fully_connected(layer_2, weight_3, bias_3)\n",
    "\n",
    "\n",
    "#--------Create output layer (1 output value)--------\n",
    "weight_4 = init_weight(shape=[3, 1], st_dev=10.0)\n",
    "bias_4 = init_bias(shape=[1], st_dev=10.0)\n",
    "final_output = fully_connected(layer_3, weight_4, bias_4)\n",
    "\n",
    "# Declare loss function (L1)\n",
    "loss = tf.reduce_mean(tf.abs(y_target - final_output))\n",
    "\n",
    "# Declare optimizer\n",
    "my_opt = tf.train.AdamOptimizer(0.025)\n",
    "train_step = my_opt.minimize(loss)"
   ]
  },
  {
   "cell_type": "markdown",
   "metadata": {},
   "source": [
    "Now we initialize all the variables and start the training loop."
   ]
  },
  {
   "cell_type": "code",
   "execution_count": 23,
   "metadata": {
    "collapsed": false
   },
   "outputs": [
    {
     "name": "stdout",
     "output_type": "stream",
     "text": [
      "Generation: 25. Loss = 15990.673\n",
      "Generation: 50. Loss = 4621.7324\n",
      "Generation: 75. Loss = 2795.2063\n",
      "Generation: 100. Loss = 2217.2898\n",
      "Generation: 125. Loss = 2295.652\n",
      "Generation: 150. Loss = 2047.0444\n",
      "Generation: 175. Loss = 1915.7662\n",
      "Generation: 200. Loss = 1732.4612\n",
      "Generation: 225. Loss = 1684.788\n",
      "Generation: 250. Loss = 1576.6499\n",
      "Generation: 275. Loss = 1579.0377\n",
      "Generation: 300. Loss = 1456.1995\n",
      "Generation: 325. Loss = 1521.6514\n",
      "Generation: 350. Loss = 1294.7653\n",
      "Generation: 375. Loss = 1507.5607\n",
      "Generation: 400. Loss = 1221.8282\n",
      "Generation: 425. Loss = 1636.6686\n",
      "Generation: 450. Loss = 1306.6858\n",
      "Generation: 475. Loss = 1564.3484\n",
      "Generation: 500. Loss = 1360.8761\n"
     ]
    }
   ],
   "source": [
    "# Initialize Variables\n",
    "init = tf.global_variables_initializer()\n",
    "sess.run(init)\n",
    "\n",
    "# Training loop\n",
    "loss_vec = []\n",
    "test_loss = []\n",
    "for i in range(500):\n",
    "    rand_index = np.random.choice(len(x_vals_train), size=batch_size)\n",
    "    rand_x = x_vals_train[rand_index]\n",
    "    rand_y = np.transpose([y_vals_train[rand_index]])\n",
    "    sess.run(train_step, feed_dict={x_data: rand_x, y_target: rand_y})\n",
    "\n",
    "    temp_loss = sess.run(loss, feed_dict={x_data: rand_x, y_target: rand_y})\n",
    "    loss_vec.append(temp_loss)\n",
    "    \n",
    "    test_temp_loss = sess.run(loss, feed_dict={x_data: x_vals_test, y_target: np.transpose([y_vals_test])})\n",
    "    test_loss.append(test_temp_loss)\n",
    "    if (i+1) % 25 == 0:\n",
    "        print('Generation: ' + str(i+1) + '. Loss = ' + str(temp_loss))"
   ]
  },
  {
   "cell_type": "markdown",
   "metadata": {},
   "source": [
    "Here is code that will plot the loss by generation."
   ]
  },
  {
   "cell_type": "code",
   "execution_count": 24,
   "metadata": {
    "collapsed": false
   },
   "outputs": [
    {
     "data": {
      "image/png": "[encoded data removed]",
      "text/plain": [
       "<Figure size 432x288 with 1 Axes>"
      ]
     },
     "metadata": {},
     "output_type": "display_data"
    }
   ],
   "source": [
    "%matplotlib inline\n",
    "# Plot loss (MSE) over time\n",
    "plt.plot(loss_vec, 'k-', label='Train Loss')\n",
    "plt.plot(test_loss, 'r--', label='Test Loss')\n",
    "plt.title('Loss (MSE) per Generation')\n",
    "plt.legend(loc='upper right')\n",
    "plt.xlabel('Generation')\n",
    "plt.ylabel('Loss')\n",
    "plt.show()"
   ]
  },
  {
   "cell_type": "markdown",
   "metadata": {
    "collapsed": true
   },
   "source": [
    "Here is how to calculate the model accuracy:"
   ]
  },
  {
   "cell_type": "code",
   "execution_count": 25,
   "metadata": {
    "collapsed": false
   },
   "outputs": [
    {
     "name": "stdout",
     "output_type": "stream",
     "text": [
      "On predicting the category of low birthweight from regression output (<2500g):\n",
      "Test Accuracy: 0.5\n",
      "Train Accuracy: 0.6225165562913907\n"
     ]
    }
   ],
   "source": [
    "# Model Accuracy\n",
    "actuals = np.array([x[0] for x in birth_data])\n",
    "test_actuals = actuals[test_indices]\n",
    "train_actuals = actuals[train_indices]\n",
    "test_preds = [x[0] for x in sess.run(final_output, feed_dict={x_data: x_vals_test})]\n",
    "train_preds = [x[0] for x in sess.run(final_output, feed_dict={x_data: x_vals_train})]\n",
    "test_preds = np.array([1.0 if x < 2500.0 else 0.0 for x in test_preds])\n",
    "train_preds = np.array([1.0 if x < 2500.0 else 0.0 for x in train_preds])\n",
    "# Print out accuracies\n",
    "test_acc = np.mean([x == y for x, y in zip(test_preds, test_actuals)])\n",
    "train_acc = np.mean([x == y for x, y in zip(train_preds, train_actuals)])\n",
    "print('On predicting the category of low birthweight from regression output (<2500g):')\n",
    "print('Test Accuracy: {}'.format(test_acc))\n",
    "print('Train Accuracy: {}'.format(train_acc))"
   ]
  },
  {
   "cell_type": "markdown",
   "metadata": {},
   "source": [
    "### Evaluate new points on the model"
   ]
  },
  {
   "cell_type": "code",
   "execution_count": 26,
   "metadata": {
    "collapsed": false
   },
   "outputs": [
    {
     "name": "stdout",
     "output_type": "stream",
     "text": [
      "New Data Predictions: [1. 1.]\n"
     ]
    }
   ],
   "source": [
    "# Need new vectors of 'AGE', 'LWT', 'RACE', 'SMOKE', 'PTL', 'HT', 'UI'\n",
    "new_data = np.array([[35, 185, 1., 0., 0., 0., 1.],\n",
    "                     [18, 160, 0., 1., 0., 0., 1.]])\n",
    "new_data_scaled = np.nan_to_num(normalize_cols(new_data, train_max, train_min))\n",
    "new_logits = [x[0] for x in sess.run(final_output, feed_dict={x_data: new_data_scaled})]\n",
    "new_preds = np.array([1.0 if x < 2500.0 else 0.0 for x in new_logits])\n",
    "\n",
    "print('New Data Predictions: {}'.format(new_preds))"
   ]
  }
 ],
 "metadata": {
  "anaconda-cloud": {},
  "kernelspec": {
   "display_name": "Python 3",
   "language": "python",
   "name": "python3"
  },
  "language_info": {
   "codemirror_mode": {
    "name": "ipython",
    "version": 3
   },
   "file_extension": ".py",
   "mimetype": "text/x-python",
   "name": "python",
   "nbconvert_exporter": "python",
   "pygments_lexer": "ipython3",
   "version": "3.6.1"
  }
 },
 "nbformat": 4,
 "nbformat_minor": 2
}
